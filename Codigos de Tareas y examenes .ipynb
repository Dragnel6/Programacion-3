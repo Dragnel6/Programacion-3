{
  "nbformat": 4,
  "nbformat_minor": 0,
  "metadata": {
    "colab": {
      "provenance": [],
      "collapsed_sections": [],
      "authorship_tag": "ABX9TyMdw8uCSj1PUU2hkrxPdnjM",
      "include_colab_link": true
    },
    "kernelspec": {
      "name": "python3",
      "display_name": "Python 3"
    },
    "language_info": {
      "name": "python"
    }
  },
  "cells": [
    {
      "cell_type": "markdown",
      "metadata": {
        "id": "view-in-github",
        "colab_type": "text"
      },
      "source": [
        "<a href=\"https://colab.research.google.com/github/Dragnel6/Programacion-3/blob/main/Codigos%20de%20Tareas%20y%20examenes%20.ipynb\" target=\"_parent\"><img src=\"https://colab.research.google.com/assets/colab-badge.svg\" alt=\"Open In Colab\"/></a>"
      ]
    },
    {
      "cell_type": "code",
      "execution_count": null,
      "metadata": {
        "colab": {
          "base_uri": "https://localhost:8080/"
        },
        "id": "Ph3nO4kXoXpc",
        "outputId": "8f4cb1df-a8ce-430f-b87b-f5b4c0a4347a"
      },
      "outputs": [
        {
          "output_type": "stream",
          "name": "stdout",
          "text": [
            "Hola Mundo Bienvenidos a Programacion Computacional\n"
          ]
        }
      ],
      "source": [
        "print(\"Hola Mundo\", \"Bienvenidos a Programacion Computacional\")"
      ]
    },
    {
      "cell_type": "code",
      "source": [
        "print(\"Juan Carlos\")"
      ],
      "metadata": {
        "colab": {
          "base_uri": "https://localhost:8080/"
        },
        "id": "dx-3a3NZoxmK",
        "outputId": "ccbea397-0b9f-45ff-e831-0d16b2228ada"
      },
      "execution_count": null,
      "outputs": [
        {
          "output_type": "stream",
          "name": "stdout",
          "text": [
            "Juan Carlos\n"
          ]
        }
      ]
    },
    {
      "cell_type": "code",
      "source": [
        "nombre = \"Juan Carlos\"\n",
        "print(\"Hola\", nombre, nombre[5], type(nombre))\n",
        "\n",
        "nombre = 25\n",
        "print(\"Tu edad es: \", type(nombre))"
      ],
      "metadata": {
        "colab": {
          "base_uri": "https://localhost:8080/"
        },
        "id": "Yp6cIOszo4Nq",
        "outputId": "6d356e55-7b82-4ba7-d5bd-893df47a92d9"
      },
      "execution_count": null,
      "outputs": [
        {
          "output_type": "stream",
          "name": "stdout",
          "text": [
            "Hola Juan Carlos C <class 'str'>\n",
            "Tu edad es:  <class 'int'>\n"
          ]
        }
      ]
    },
    {
      "cell_type": "code",
      "source": [
        "programacion = True\n",
        "diseno = False\n",
        "print(\"Te gusta Progra\", programacion, \"Te gusta diseño\", diseno, type(programacion))"
      ],
      "metadata": {
        "colab": {
          "base_uri": "https://localhost:8080/"
        },
        "id": "gYcq6mFopGDC",
        "outputId": "3f34e186-23f3-4783-a885-c3369621513b"
      },
      "execution_count": null,
      "outputs": [
        {
          "output_type": "stream",
          "name": "stdout",
          "text": [
            "Te gusta Progra True Te gusta diseño False <class 'bool'>\n"
          ]
        }
      ]
    },
    {
      "cell_type": "code",
      "source": [
        "edad = int(input(\"Dime tu edad: \"))\n",
        "if edad>=18: \n",
        "  print(\"Eres un adulto, tienes responsabilidades...\")\n",
        "else:\n",
        "  print(\"Eres libre\")"
      ],
      "metadata": {
        "colab": {
          "base_uri": "https://localhost:8080/"
        },
        "id": "2FRvntXzpN-X",
        "outputId": "8c3cbd11-8fed-4b6b-fa45-f6eaaa8e55b9"
      },
      "execution_count": null,
      "outputs": [
        {
          "output_type": "stream",
          "name": "stdout",
          "text": [
            "Dime tu edad: 18\n",
            "Eres un adulto, tienes responsabilidades...\n"
          ]
        }
      ]
    },
    {
      "cell_type": "code",
      "source": [
        "def sumaDosNumeros(num1, num2):\n",
        "  resp = num1 + num2\n",
        "  return resp\n",
        "print( \"La suma: \", sumaDosNumeros(2,5) )"
      ],
      "metadata": {
        "colab": {
          "base_uri": "https://localhost:8080/"
        },
        "id": "LDUANwzppWqe",
        "outputId": "e8a0dc18-0d97-4812-ef02-9bcf0fe52620"
      },
      "execution_count": null,
      "outputs": [
        {
          "output_type": "stream",
          "name": "stdout",
          "text": [
            "La suma:  7\n"
          ]
        }
      ]
    },
    {
      "cell_type": "code",
      "source": [
        "sumaNumeros = lambda num1, num2: num1 + num2\n",
        "print( \"La suma: \", sumaNumeros(6,6))"
      ],
      "metadata": {
        "colab": {
          "base_uri": "https://localhost:8080/"
        },
        "id": "Cu0O1eVRpdCo",
        "outputId": "080a6080-d10f-4b4f-ee55-a289f93239dc"
      },
      "execution_count": null,
      "outputs": [
        {
          "output_type": "stream",
          "name": "stdout",
          "text": [
            "La suma:  12\n"
          ]
        }
      ]
    },
    {
      "cell_type": "code",
      "source": [
        "numeros = [5,4,7,8,-4,-9]"
      ],
      "metadata": {
        "id": "ya1NnO4VpkkZ"
      },
      "execution_count": null,
      "outputs": []
    },
    {
      "cell_type": "code",
      "source": [
        "def cuadrado(num):\n",
        "  return num**2"
      ],
      "metadata": {
        "id": "ANLnhwSdptA5"
      },
      "execution_count": null,
      "outputs": []
    },
    {
      "cell_type": "code",
      "source": [
        "def cubo(num):\n",
        "  return num**3"
      ],
      "metadata": {
        "id": "YfW5_FAJpw2x"
      },
      "execution_count": null,
      "outputs": []
    },
    {
      "cell_type": "code",
      "source": [
        "def pares(num): #num = 2/2 = 1 == 0\n",
        "  return num%2==0"
      ],
      "metadata": {
        "id": "_UsZa34Pp10p"
      },
      "execution_count": null,
      "outputs": []
    },
    {
      "cell_type": "code",
      "source": [
        "def impares(num):\n",
        "  return num%2!=0"
      ],
      "metadata": {
        "id": "YsTbrnihp35S"
      },
      "execution_count": null,
      "outputs": []
    },
    {
      "cell_type": "code",
      "source": [
        "numCuadrado = list(map(cuadrado, numeros))\n",
        "numXDos = list( map(lambda num: num*2, numeros) )\n",
        "print(\"Elevar al cuadrado la lista: \",numCuadrado, numXDos )"
      ],
      "metadata": {
        "colab": {
          "base_uri": "https://localhost:8080/"
        },
        "id": "z4ekShpsp7Dg",
        "outputId": "1579ca75-01c6-461c-e025-865d23c70772"
      },
      "execution_count": null,
      "outputs": [
        {
          "output_type": "stream",
          "name": "stdout",
          "text": [
            "Elevar al cuadrado la lista:  [25, 16, 49, 64, 16, 81] [10, 8, 14, 16, -8, -18]\n"
          ]
        }
      ]
    },
    {
      "cell_type": "code",
      "source": [
        "numCubo = list( map(cubo, numeros) )\n",
        "print(numCubo)"
      ],
      "metadata": {
        "colab": {
          "base_uri": "https://localhost:8080/"
        },
        "id": "W60qlkG6qCrY",
        "outputId": "2bd97281-2cdf-49c7-dda0-b980424a92e6"
      },
      "execution_count": null,
      "outputs": [
        {
          "output_type": "stream",
          "name": "stdout",
          "text": [
            "[125, 64, 343, 512, -64, -729]\n"
          ]
        }
      ]
    },
    {
      "cell_type": "code",
      "source": [
        "#usando filter dejamos solo los pares\n",
        "pares = list( filter(pares, numeros) )\n",
        "print(pares)"
      ],
      "metadata": {
        "colab": {
          "base_uri": "https://localhost:8080/"
        },
        "id": "PupiKFAIqI1J",
        "outputId": "0c851938-b091-4626-b9aa-f3c993cebbe6"
      },
      "execution_count": null,
      "outputs": [
        {
          "output_type": "stream",
          "name": "stdout",
          "text": [
            "[4, 8, -4]\n"
          ]
        }
      ]
    },
    {
      "cell_type": "code",
      "source": [
        "impares = list( filter(impares,numeros) )\n",
        "print(impares)"
      ],
      "metadata": {
        "colab": {
          "base_uri": "https://localhost:8080/"
        },
        "id": "ZASbDbd_qO7w",
        "outputId": "16fddc9b-ac60-4711-f444-13187363634a"
      },
      "execution_count": null,
      "outputs": [
        {
          "output_type": "stream",
          "name": "stdout",
          "text": [
            "[5, 7, -9]\n"
          ]
        }
      ]
    },
    {
      "cell_type": "code",
      "source": [
        "#conversor de celsius a f\n",
        "def cf(c):\n",
        "  return c*9/5+32"
      ],
      "metadata": {
        "id": "eNEU-3K1qR9B"
      },
      "execution_count": null,
      "outputs": []
    },
    {
      "cell_type": "code",
      "source": [
        "c = float(input(\"Grados C: \"))\n",
        "print( \"G. C a F\", cf(c))"
      ],
      "metadata": {
        "colab": {
          "base_uri": "https://localhost:8080/"
        },
        "id": "IJ9EGMqPqV3g",
        "outputId": "d19ab73f-d559-49fd-dcaa-f475a8f96b11"
      },
      "execution_count": null,
      "outputs": [
        {
          "output_type": "stream",
          "name": "stdout",
          "text": [
            "Grados C: 34.5\n",
            "G. C a F 94.1\n"
          ]
        }
      ]
    },
    {
      "cell_type": "code",
      "source": [
        "celsius = lambda c: c*9/5 + 32\n",
        "c = int(input(\"Grados Celsius A convertir: \"))\n",
        "\n",
        "print( celsius(c) )"
      ],
      "metadata": {
        "colab": {
          "base_uri": "https://localhost:8080/"
        },
        "id": "_NSBS-kNqc3I",
        "outputId": "5196f371-5cce-4189-d1d6-248a448ce451"
      },
      "execution_count": null,
      "outputs": [
        {
          "output_type": "stream",
          "name": "stdout",
          "text": [
            "Grados Celsius A convertir: 27\n",
            "80.6\n"
          ]
        }
      ]
    },
    {
      "cell_type": "code",
      "source": [
        "gradosc = [27,30,35,40,45]\n",
        "grados = lambda c: c*1.8 + 32\n",
        "f = list( map(grados, gradosc) )\n",
        "print(f)"
      ],
      "metadata": {
        "colab": {
          "base_uri": "https://localhost:8080/"
        },
        "id": "fww9J8P-qhqD",
        "outputId": "3f22543d-65c0-4464-c931-d27b8cb2844a"
      },
      "execution_count": null,
      "outputs": [
        {
          "output_type": "stream",
          "name": "stdout",
          "text": [
            "[80.6, 86.0, 95.0, 104.0, 113.0]\n"
          ]
        }
      ]
    },
    {
      "cell_type": "markdown",
      "source": [
        "Tarea: Hacer un algoritmo en python que convierta de farenheit a celsius Hacer un algoritmo en python que convierta de Celsius a Kelvin y viceversa"
      ],
      "metadata": {
        "id": "iXq6bnYeqtF6"
      }
    },
    {
      "cell_type": "code",
      "source": [
        "gradosCelsius = [27, 32, 40, 35, 37]"
      ],
      "metadata": {
        "id": "gsm9QG-Squ0h"
      },
      "execution_count": null,
      "outputs": []
    },
    {
      "cell_type": "code",
      "source": [
        "def convertirCaKel(c):\n",
        "   return c + 273.15"
      ],
      "metadata": {
        "id": "GMNJdyJPribY"
      },
      "execution_count": null,
      "outputs": []
    },
    {
      "cell_type": "code",
      "source": [
        "print (gradosCelsius, \"respuesta: \", list(map(convertirCaKel, gradosCelsius)))"
      ],
      "metadata": {
        "colab": {
          "base_uri": "https://localhost:8080/"
        },
        "id": "TNXVLIGsrkEK",
        "outputId": "84c6f9f2-45a8-45b1-f1dc-651207a140b5"
      },
      "execution_count": null,
      "outputs": [
        {
          "output_type": "stream",
          "name": "stdout",
          "text": [
            "[27, 32, 40, 35, 37] respuesta:  [300.15, 305.15, 313.15, 308.15, 310.15]\n"
          ]
        }
      ]
    },
    {
      "cell_type": "code",
      "source": [
        "GradosKel = [300.15, 305.15, 313.15, 308.15, 310.15]\n",
        "gradosk = lambda K: (K-273.15)\n",
        "K = list(map(gradosk, GradosKel))\n",
        "print(K)"
      ],
      "metadata": {
        "colab": {
          "base_uri": "https://localhost:8080/"
        },
        "id": "cP8w1bHnroFa",
        "outputId": "a6d8a63e-3d93-4135-c85a-717d429dcdd8"
      },
      "execution_count": null,
      "outputs": [
        {
          "output_type": "stream",
          "name": "stdout",
          "text": [
            "[27.0, 32.0, 40.0, 35.0, 37.0]\n"
          ]
        }
      ]
    },
    {
      "cell_type": "code",
      "source": [
        "numeros = [5,7,9,6,8,7,3]"
      ],
      "metadata": {
        "id": "Rxv5wgmar7ZI"
      },
      "execution_count": null,
      "outputs": []
    },
    {
      "cell_type": "code",
      "source": [
        "print(\" Lista original \", \" Buscando: \", numeros[numeros.index(3)], numeros[0] )"
      ],
      "metadata": {
        "colab": {
          "base_uri": "https://localhost:8080/"
        },
        "id": "6Qfv2-3_sD5g",
        "outputId": "a2cdcf5b-5b86-46ce-eacd-a5551bafc8c1"
      },
      "execution_count": null,
      "outputs": [
        {
          "output_type": "stream",
          "name": "stdout",
          "text": [
            " Lista original   Buscando:  3 5\n"
          ]
        }
      ]
    },
    {
      "cell_type": "code",
      "source": [
        "numeros[0] = 4\n",
        "print(\"Nuevo valor: \", numeros[0])"
      ],
      "metadata": {
        "colab": {
          "base_uri": "https://localhost:8080/"
        },
        "id": "Wvoi43BRsHRA",
        "outputId": "862c91e2-96c1-4d1a-b7d7-2d4b4d0eea9c"
      },
      "execution_count": null,
      "outputs": [
        {
          "output_type": "stream",
          "name": "stdout",
          "text": [
            "Nuevo valor:  4\n"
          ]
        }
      ]
    },
    {
      "cell_type": "code",
      "source": [
        "edades = (2,5,12,18,65,100) #Una tupla es inmutable, se declara con parentesis\n",
        "print( \"Las edades: \", edades, edades[0] )"
      ],
      "metadata": {
        "colab": {
          "base_uri": "https://localhost:8080/"
        },
        "id": "gwr6b-S8sKar",
        "outputId": "edb0a24e-1042-45ae-a65d-2d25122c38aa"
      },
      "execution_count": null,
      "outputs": [
        {
          "output_type": "stream",
          "name": "stdout",
          "text": [
            "Las edades:  (2, 5, 12, 18, 65, 100) 2\n"
          ]
        }
      ]
    },
    {
      "cell_type": "code",
      "source": [
        "#edades[0] = 0 #NO puedo cambiar su valor, y se usa con corchetes\n",
        "print( \"Nuevo Valor\", edades[0] )"
      ],
      "metadata": {
        "colab": {
          "base_uri": "https://localhost:8080/"
        },
        "id": "CI4yhIAwsO1o",
        "outputId": "663e9080-1a7a-454b-f6a8-9350ae12126c"
      },
      "execution_count": null,
      "outputs": [
        {
          "output_type": "stream",
          "name": "stdout",
          "text": [
            "Nuevo Valor 2\n"
          ]
        }
      ]
    },
    {
      "cell_type": "code",
      "source": [
        "print(\"Edades: \", edades, \"Filtrar solo mayores de edad: \", tuple(filter( lambda num: num>=18, edades )) )"
      ],
      "metadata": {
        "colab": {
          "base_uri": "https://localhost:8080/"
        },
        "id": "vbqWlZyTsSWr",
        "outputId": "4190541a-debf-4647-c60f-13d7ee727908"
      },
      "execution_count": null,
      "outputs": [
        {
          "output_type": "stream",
          "name": "stdout",
          "text": [
            "Edades:  (2, 5, 12, 18, 65, 100) Filtrar solo mayores de edad:  (18, 65, 100)\n"
          ]
        }
      ]
    },
    {
      "cell_type": "code",
      "source": [
        "buscando = int(input(\"Valor: \"))\n",
        "print( \"Edades: \", edades, \"Buscando el numero: \", buscando, \"esta en la posicion: \", edades.index(buscando) )"
      ],
      "metadata": {
        "colab": {
          "base_uri": "https://localhost:8080/"
        },
        "id": "cuIzlYHDsXBw",
        "outputId": "ccf03cbf-23cd-40ed-cf7e-5d0a0f713e8e"
      },
      "execution_count": null,
      "outputs": [
        {
          "output_type": "stream",
          "name": "stdout",
          "text": [
            "Valor: 5\n",
            "Edades:  (2, 5, 12, 18, 65, 100) Buscando el numero:  5 esta en la posicion:  1\n"
          ]
        }
      ]
    },
    {
      "cell_type": "code",
      "source": [
        "notas = [5, 4, 10, 7.8, 9]\n",
        "print(\"Mis Notas: \", notas, \"Notas sobresalientes: \", list(filter(lambda n:n>=9, notas)) )"
      ],
      "metadata": {
        "colab": {
          "base_uri": "https://localhost:8080/"
        },
        "id": "KBllBEDwsglA",
        "outputId": "d15fa405-a7f3-4245-872d-42c287c2972d"
      },
      "execution_count": null,
      "outputs": [
        {
          "output_type": "stream",
          "name": "stdout",
          "text": [
            "Mis Notas:  [5, 4, 10, 7.8, 9] Notas sobresalientes:  [10, 9]\n"
          ]
        }
      ]
    },
    {
      "cell_type": "code",
      "source": [
        "notasCiclo = [\n",
        "    [5,6,6],\n",
        "    [8,7,10],\n",
        "    [10,10,10]\n",
        "]\n",
        "print( \"Mis Notas\", notasCiclo, \"C1: \", notasCiclo[0], \"C2: \", notasCiclo[1], \"C3: \", notasCiclo[2], \"PC1: \", notasCiclo[0][2] )"
      ],
      "metadata": {
        "colab": {
          "base_uri": "https://localhost:8080/"
        },
        "id": "m5UigN75sktw",
        "outputId": "2db70a74-a386-4b14-9086-2a392e170718"
      },
      "execution_count": null,
      "outputs": [
        {
          "output_type": "stream",
          "name": "stdout",
          "text": [
            "Mis Notas [[5, 6, 6], [8, 7, 10], [10, 10, 10]] C1:  [5, 6, 6] C2:  [8, 7, 10] C3:  [10, 10, 10] PC1:  6\n"
          ]
        }
      ]
    },
    {
      "cell_type": "code",
      "source": [
        "materias = [\n",
        "    [ #Progra\n",
        "      [5,6,[10,8]],#c1\n",
        "      [5,7,8],#c2\n",
        "      [6,7,6] #c3\n",
        "    ],\n",
        "    [ #Redes\n",
        "      [10,9,10], #c1\n",
        "      [10,10,8], #c2\n",
        "      [10,10,10] #c3\n",
        "    ],\n",
        "    [ #Diseno\n",
        "      [8,7,8], #c1\n",
        "      [7,9.23,9], #c2\n",
        "      [8,7,9]  #c3\n",
        "    ]\n",
        "]\n",
        "print(\"Progra: C1 - P\", (materias[0][0][2][0] + materias[0][0][2][1])/2, \"; Redes C2, Lab2: \", materias[2][1][1] )"
      ],
      "metadata": {
        "colab": {
          "base_uri": "https://localhost:8080/"
        },
        "id": "Mh1rau8Xsrj4",
        "outputId": "148677f2-fc01-473d-eb1e-bcd142c903c7"
      },
      "execution_count": null,
      "outputs": [
        {
          "output_type": "stream",
          "name": "stdout",
          "text": [
            "Progra: C1 - P 9.0 ; Redes C2, Lab2:  9.23\n"
          ]
        }
      ]
    },
    {
      "cell_type": "code",
      "source": [
        "misMaterias = {} #los diccionarios (json) se definen con llaves y se usan con corchetes\n",
        "misNotas = {\n",
        "    \"Progra I\":{\n",
        "        \"CI\": {\n",
        "            \"Lab1\": 5,\n",
        "            \"Lab2\": 6,\n",
        "            \"Parcial\": [10,8]\n",
        "        },\n",
        "        \"CII\":{\n",
        "            \"Lab1\": 5,\n",
        "            \"Lab2\": 7,\n",
        "            \"Parcial\": 8\n",
        "        },\n",
        "        \"CIII\":{\n",
        "            \"Lab1\":6,\n",
        "            \"Lab2\":7,\n",
        "            \"Parcial\":6\n",
        "        }\n",
        "    },\n",
        "    \"Diseño\":{\n",
        "        \"CI\": {\n",
        "            \"Lab1\": 10,\n",
        "            \"Lab2\": 9,\n",
        "            \"Parcial\": 10\n",
        "        },\n",
        "        \"CII\":{\n",
        "            \"Lab1\": 10,\n",
        "            \"Lab2\": 10,\n",
        "            \"Parcial\": 8\n",
        "        },\n",
        "        \"CIII\":{\n",
        "            \"Lab1\":10,\n",
        "            \"Lab2\":10,\n",
        "            \"Parcial\":10\n",
        "        }\n",
        "    }\n",
        "}\n",
        "print( misNotas[\"Progra I\"][\"CI\"][\"Parcial\"], misNotas[\"Diseño\"][\"CII\"][\"Lab2\"] )"
      ],
      "metadata": {
        "colab": {
          "base_uri": "https://localhost:8080/"
        },
        "id": "vXkyTnPas5HY",
        "outputId": "c0831f6f-a4d5-43a3-ddb6-51487440707a"
      },
      "execution_count": null,
      "outputs": [
        {
          "output_type": "stream",
          "name": "stdout",
          "text": [
            "[10, 8] 10\n"
          ]
        }
      ]
    },
    {
      "cell_type": "markdown",
      "source": [
        "ESTRUCTURAS DE CONTROL"
      ],
      "metadata": {
        "id": "N_ix4UL8wFKI"
      }
    },
    {
      "cell_type": "code",
      "source": [
        "#if dondicional si\n",
        "\n",
        "edad = int(input(\"Dime tu edad: \"))\n",
        "if(edad<=2):\n",
        "  print(\"Eres un bebe\")\n",
        "elif(edad<12):\n",
        "  print(\"Edad un niño\")\n",
        "elif (edad<18):\n",
        "  print(\"Eres un adolescente\")\n",
        "elif(edad<65):\n",
        "  print(\"Eres mayor de edad, tienes responsabilidades\")\n",
        "elif(edad<80):\n",
        "  print(\"Eres un adulto mayor\")\n",
        "else:\n",
        "  print(\"Larga vida\")"
      ],
      "metadata": {
        "colab": {
          "base_uri": "https://localhost:8080/"
        },
        "id": "jiXheS98wHGz",
        "outputId": "86768b46-ea4c-4fd8-800f-9c67bb8dccc8"
      },
      "execution_count": null,
      "outputs": [
        {
          "output_type": "stream",
          "name": "stdout",
          "text": [
            "Dime tu edad: 30\n",
            "Eres mayor de edad, tienes responsabilidades\n"
          ]
        }
      ]
    },
    {
      "cell_type": "code",
      "source": [
        "#Ciclos, while y for\n",
        "#obtenga la tabla de multiplicar de x numero dada por el usuario\n",
        "#while\n",
        "ntabla = int(input(\"Tabla: \"))\n",
        "i=1\n",
        "while(i<=10):\n",
        "  print(ntabla, \"X\", i, \"=\", ntabla*i)\n",
        "  i+=1"
      ],
      "metadata": {
        "colab": {
          "base_uri": "https://localhost:8080/"
        },
        "id": "ZzmtH6O5wNk4",
        "outputId": "4d7a15f0-ea20-4358-f3cc-09a54aedf873"
      },
      "execution_count": null,
      "outputs": [
        {
          "output_type": "stream",
          "name": "stdout",
          "text": [
            "Tabla: 4\n",
            "4 X 1 = 4\n",
            "4 X 2 = 8\n",
            "4 X 3 = 12\n",
            "4 X 4 = 16\n",
            "4 X 5 = 20\n",
            "4 X 6 = 24\n",
            "4 X 7 = 28\n",
            "4 X 8 = 32\n",
            "4 X 9 = 36\n",
            "4 X 10 = 40\n"
          ]
        }
      ]
    },
    {
      "cell_type": "code",
      "source": [
        "ntabla = int(input(\"Tabla: \"))\n",
        "for i in range(1, 11):\n",
        "  print(ntabla, \"X\", i, \"=\", ntabla*i)"
      ],
      "metadata": {
        "colab": {
          "base_uri": "https://localhost:8080/"
        },
        "id": "N_RlBoYqwSjX",
        "outputId": "7c72f0cf-cc87-4564-87a8-8454bf6f2559"
      },
      "execution_count": null,
      "outputs": [
        {
          "output_type": "stream",
          "name": "stdout",
          "text": [
            "Tabla: 5\n",
            "5 X 1 = 5\n",
            "5 X 2 = 10\n",
            "5 X 3 = 15\n",
            "5 X 4 = 20\n",
            "5 X 5 = 25\n",
            "5 X 6 = 30\n",
            "5 X 7 = 35\n",
            "5 X 8 = 40\n",
            "5 X 9 = 45\n",
            "5 X 10 = 50\n"
          ]
        }
      ]
    },
    {
      "cell_type": "code",
      "source": [
        "#HAcer un programa en python que genera la tabla de multiplicar dada por el usuario, hasta que el usuario desida salir\n",
        "s=\"s\"\n",
        "while s==\"s\":\n",
        "  ntabla = int(input(\"Tabla: \"))\n",
        "  for i in range(1,11):\n",
        "    print(ntabla, \"X\", i, \"=\", ntabla*i)\n",
        "  s = input(\"Continuar s, cualquier otra tecla para salir \")\n",
        "print(\"Salistes...\")"
      ],
      "metadata": {
        "colab": {
          "base_uri": "https://localhost:8080/"
        },
        "id": "3M8yCbuQwXMX",
        "outputId": "c0ac9724-caa3-4d70-808a-cccd426dd354"
      },
      "execution_count": null,
      "outputs": [
        {
          "output_type": "stream",
          "name": "stdout",
          "text": [
            "Tabla: 2\n",
            "2 X 1 = 2\n",
            "2 X 2 = 4\n",
            "2 X 3 = 6\n",
            "2 X 4 = 8\n",
            "2 X 5 = 10\n",
            "2 X 6 = 12\n",
            "2 X 7 = 14\n",
            "2 X 8 = 16\n",
            "2 X 9 = 18\n",
            "2 X 10 = 20\n",
            "Continuar s, cualquier otra tecla para salir q\n",
            "Salistes...\n"
          ]
        }
      ]
    },
    {
      "cell_type": "code",
      "source": [
        "#Calcular sobre el sueldo las deducciones por ley ISSS (3%), AFP(6.25%), ISR(Según tabla) e imprima el total deducciones y sueldo neto. (20%)\n",
        " \n",
        "sueldo = float(input(\"Sueldo: \"))\n",
        "isss = sueldo*0.03\n",
        "afp = sueldo*0.0625\n",
        "sueldoNeto = sueldo-(isss + afp)\n",
        " \n",
        "tablaIsr = [\n",
        "            [0.01,472,0,0],\n",
        "            [472.01,895.24,0.2,17.67],\n",
        "            [895.25,2038.10,0.20,60],\n",
        "            [2038.11,99999,0.30,288.57]\n",
        " \n",
        "]\n",
        "for isr in tablaIsr:\n",
        "  if sueldoNeto >isr[0] and sueldoNeto <=isr[1]:\n",
        "    impSr=( sueldoNeto-isr[0])*isr[2] + isr[3] \n",
        "    print(impSr)\n",
        "print(\"Total de desucciones\", (isss+afp+impSr), \"El sueldo Neto: \", sueldoNeto-impSr)"
      ],
      "metadata": {
        "colab": {
          "base_uri": "https://localhost:8080/"
        },
        "id": "xPJZGvmFP74J",
        "outputId": "00160f45-a78e-45fb-d11e-fb25b0f8ead4"
      },
      "execution_count": null,
      "outputs": [
        {
          "output_type": "stream",
          "name": "stdout",
          "text": [
            "Sueldo: 500\n",
            "0.0\n",
            "Total de desucciones 46.25 El sueldo Neto:  453.75\n"
          ]
        }
      ]
    },
    {
      "cell_type": "markdown",
      "source": [
        "CONVERSORES DE DIVISAS, LONGITUD Y ALMACENAMIENTO."
      ],
      "metadata": {
        "id": "nUq-zDnrDsso"
      }
    },
    {
      "cell_type": "code",
      "source": [
        "etiquetas = [\n",
        "  [],\n",
        "  [\"Seleccione una divisa\", \"1. Dolares\", \n",
        "            \"2. Quetzalez\", \"3. Lempiras\", \"4. Cordobas\", \n",
        "            \"5. Pesos CR\", \"6. Euros\", \"7. Colon SV\", \n",
        "            \"8. Yenes\", \"9. Soles Peruanos\",\"10.Dolar Canadiense\"\n",
        "  ],\n",
        "  [\"Seleccione una longitud\", \"1. Metro\", \"2. Milimetro\", \n",
        "    \"3. Centimetro\", \n",
        "    \"4. Pie\", \"5. Varas\", \"6. Yardas\", \"7. Km\", \"8. Millas\", \"9.Nudos\", \"10.Años Luz\"],\n",
        "\n",
        "  [\"Sleccione una un almacenamiento\", \"1. Byte\", \"2. Kilobyte\", \"3. Megabyte\", \"4.Gigabyte\", \"5.Terabyte\", \"6.Petabyte\", \"7.Exabyte\", \"8.Zettabyte\", \"9.Yottabyte\", \"10.Brontobyte\"] #Almacenamiento\n",
        "]\n",
        "valores = [[],\n",
        "    [0,1, 7.71, 24.51, 35.77, 664.64, 0.98, 8.75, 134.13, 3.84, 1.30], #divisas\n",
        "    [0, 1, 1000, 100, 328.084, 1.1963081929167, 1.0936133, 0.001, 0.000621371, 0.5144, 0.00000000000000010570], #longitudes\n",
        "    [0,1, 1.024, 1.048576, 1.073741824, 1.099511627776, 1.125899906842624, 1.152921504606846976, 1.180591620717411303424, 1.208925819614629174706176, 1.237940039285380274899124224], #Almacenamiento\n",
        "      ]"
      ],
      "metadata": {
        "id": "XXnzMUT5wkqK"
      },
      "execution_count": null,
      "outputs": []
    },
    {
      "cell_type": "code",
      "source": [
        "def convertir(conversor, de, a, cantidad):\n",
        "  return valores[conversor][a] / valores[conversor][de] * cantidad"
      ],
      "metadata": {
        "id": "gItl0TN3AtYS"
      },
      "execution_count": null,
      "outputs": []
    },
    {
      "cell_type": "code",
      "source": [
        "print(\"**MENU - CONVERSOR**\")\n",
        "print(\"1. Divisas\")\n",
        "print(\"2. Longitud\")\n",
        "print(\"3. Almacenamiento\")\n",
        "opcion = int(input(\"Conversor: \"))\n",
        "print(\"CONVERSOR ELEGIDO: \", etiquetas[opcion])\n",
        "de = int(input(\"DE: \"))\n",
        "a = int(input(\"A: \"))\n",
        "cantidad = int(input(\"Cantidad: \"))\n",
        "print( \"Conversion de \", etiquetas[opcion][de], \" a \", etiquetas[opcion][a], \" equivale a \", convertir(opcion, de, a, cantidad) )"
      ],
      "metadata": {
        "colab": {
          "base_uri": "https://localhost:8080/"
        },
        "id": "OO-Shri-9sBg",
        "outputId": "8f657fdd-fb51-4156-b2db-d7d26e680f44"
      },
      "execution_count": null,
      "outputs": [
        {
          "output_type": "stream",
          "name": "stdout",
          "text": [
            "**MENU - CONVERSOR**\n",
            "1. Divisas\n",
            "2. Longitud\n",
            "3. Almacenamiento\n",
            "Conversor: 3\n",
            "CONVERSOR ELEGIDO:  ['Sleccione una un almacenamiento', '1. Byte', '2. Kilobyte', '3. Megabyte', '4.Gigabyte', '5.Terabyte', '6.Petabyte', '7.Exabyte', '8.Zettabyte', '9.Yottabyte', '10.Brontobyte']\n",
            "DE: 5\n",
            "A: 7\n",
            "Cantidad: 3\n",
            "Conversion de  5.Terabyte  a  7.Exabyte  equivale a  3.1457280000000005\n"
          ]
        }
      ]
    },
    {
      "cell_type": "markdown",
      "source": [
        "CONVERSOR DE MASAS, TIEMPO Y VOLUMEN."
      ],
      "metadata": {
        "id": "n9d4SEDItT4P"
      }
    },
    {
      "cell_type": "code",
      "source": [
        "ETIQUETAS = [\n",
        "  [],\n",
        "  [\"Seleccione una Masa\", \"1. Picogramo\", \n",
        "            \"2. Nanogramo\", \"3. Microgramo\", \"4. Miligramo\", \n",
        "            \"5. Gramo\", \"6. Kilogramo\", \"7. Tonelada\", \n",
        "            \"8. Onza\", \"9. Libra\"\n",
        "  ],\n",
        "  [\"Seleccione un tiempo\", \"1. Segundo\", \"2. Minuto\", \n",
        "    \"3. Hora\", \"4. Dia\", \"5. Semana\", \"6. Quincena\", \"7. Mes\", \"8. Trimestre\", \"9.Semestre\", \"10.Año\"],\n",
        "    \n",
        "    [\"Seleccione un Volumen\", \"1. Litro\", \"2. Mililitro\", \"3. Galon\", \"4. Metro Cubico\", \"5. Pie Cubico\", \"6. Pulgada cubica\"]\n",
        "]\n",
        "VALORES = [[],\n",
        "    [0, 0.000000000001, 0.000000001, 0.000001, 0.001, 1, 1.000, 1.000000, 28.35, 453.59], \n",
        "    [0, 1, 60, 3.600, 86.400, 604.800, 1.296000, 2629743.8, 7889231.5, 1.5778463, 3.1556926 ],\n",
        "    [0, 1, 1.000, 0.219969, 0.001, 0.0353147, 61.0237]]\n"
      ],
      "metadata": {
        "id": "qD5HVLbdtVNH"
      },
      "execution_count": null,
      "outputs": []
    },
    {
      "cell_type": "code",
      "source": [
        "def convertir(conversor, de, a, cantidad):\n",
        "  return VALORES[conversor][a] / VALORES[conversor][de] * cantidad"
      ],
      "metadata": {
        "id": "GKKoLFtsMF4W"
      },
      "execution_count": null,
      "outputs": []
    },
    {
      "cell_type": "code",
      "source": [
        "print(\"**MENU - CONVERSOR**\")\n",
        "print(\"1. MASAS\")\n",
        "print(\"2. TIEMPO\")\n",
        "print(\"3. VOLUMEN\")\n",
        "opcion = int(input(\"Conversor: \"))\n",
        "print(\"CONVERSOR ELEGIDO: \", ETIQUETAS[opcion])\n",
        "de = int(input(\"DE: \"))\n",
        "a = int(input(\"A: \"))\n",
        "cantidad = int(input(\"Cantidad: \"))\n",
        "print( \"Conversion de \", ETIQUETAS[opcion][de], \" a \", ETIQUETAS[opcion][a], \" equivale a \", convertir(opcion, de, a, cantidad) )"
      ],
      "metadata": {
        "id": "i-TSgXhCMh4G"
      },
      "execution_count": null,
      "outputs": []
    },
    {
      "cell_type": "markdown",
      "source": [
        "Desarrolle un algoritmo en Python que permita obtener los descuentos ISSS, AFP,  I.S.R,  vacaciones,  aguinaldo  etc.  Uno  para  empresas  y  otro  para \n",
        "personas. Favor investigue los datos correspondientes según ley.\n",
        "El usuario deberá ingresar el sueldo y que el sistema le diga el valor neto a pagarle y las deducciones. (30%) "
      ],
      "metadata": {
        "id": "v3ma1JPnQlvY"
      }
    },
    {
      "cell_type": "code",
      "source": [
        "def CalcAguinaldo(SALARIO):\n",
        "\n",
        "  print(\"CALCULADORA DE DESCUENTO DE ISSS, AFP, I.S.R, VACACIONES, AGUINALDO\")\n",
        "  TIEMPO = [\"Cuanto tiempo que llevas en la empresa?:\", \"1. Entre 1 y 3 años\", \"2. Entre 3 y 10 años\", \"3. Más de 10 años\\n\"]\n",
        "  DiasAgui = [\"Cantidad de dias de aguinaldo:\", \"15 días\", \"19 días\", \"21 días\"]\n",
        "  \n",
        "  for i in TIEMPO:\n",
        "    print(i)\n",
        "\n",
        "  ANTIGUO = int(input(\"Tiempo: \"))\n",
        "\n",
        "  #Salario mensual / 30 x Días de aguinaldo\n",
        "\n",
        "  if ANTIGUO == 1:\n",
        "      FormAgui = SALARIO/30*15\n",
        "      print(\"\\nLlevas\", TIEMPO[ANTIGUO], \"en la empresa. Tu aguinaldo corresponde a:\", DiasAgui[ANTIGUO], \"\\nAguinaldo:\", round(FormAgui, 2))\n",
        "      print(\"-\"*60)\n",
        "\n",
        "  elif ANTIGUO== 2:\n",
        "      FormAgui = SALARIO/30*19\n",
        "      print(\"\\nLlevas\", TIEMPO[ANTIGUO], \"en la empresa. Tu aguinaldo corresponde a:\", DiasAgui[ANTIGUO], \"\\nAguinaldo:\", round(FormAgui, 2))\n",
        "      print(\"-\"*60)\n",
        "\n",
        "  elif ANTIGUO == 3:\n",
        "      FormAgui = SALARIO/30*21\n",
        "      print(\"\\nLlevas\", TIEMPO[ANTIGUO], \"en la empresa. Tu aguinaldo corresponde a:\", DiasAgui[ANTIGUO], \"\\nAguinaldo:\", round(FormAgui, 2))\n",
        "      print(\"-\"*60)\n",
        "\n",
        "def CalcuDeduc(SALARIO):\n",
        "\n",
        "  if SALARIO >= 1000:\n",
        "    Iss = 30.00\n",
        "    IssPatr = 75.00\n",
        "  else: \n",
        "    Iss = round(SALARIO * 0.03, 2)\n",
        "    IssPatr = round(SALARIO * 0.075, 2)\n",
        "\n",
        "    AfpPatr = round(SALARIO * 0.0775, 2)\n",
        "    Afp = round(SALARIO * 0.0725, 2)\n",
        "    Isr = SALARIO - Iss - Afp\n",
        "\n",
        "    SuelQuinc = SALARIO/2\n",
        "    Vacac = SuelQuinc*0.3\n",
        "\n",
        "  if Isr >= 0.01 and Isr <= 472.00:  \n",
        "    TotalIsr = 0.00\n",
        "    SalNetoMen = SALARIO - Iss - Afp - TotalIsr\n",
        "    #print(\"Primer tramo desde $0.01 hasta $472.00\")\n",
        "    print(\"No pagas renta\")\n",
        "\n",
        "  \n",
        "\n",
        "  elif Isr >= 472.01 and Isr <= 895.24:\n",
        "    SobreExceso = 472.00                  #valor sobre exceso por tramo\n",
        "    PorcApli = 0.1                        #porcentaje aplicado por tramo\n",
        "    Cuota = 17.67                         #Cuota fija aplicado por tramo\n",
        "\n",
        "    TotalIsr = round((Isr - SobreExceso), 2)\n",
        "    TotalIsr = round((TotalIsr * PorcApli)+Cuota, 2)\n",
        "    print(\"Segundo tramo desde $472.01 hasta $895.24\")\n",
        "    SalNetoMen = round(SALARIO - Iss - Afp - TotalIsr, 2)\n",
        "\n",
        "  elif Isr >= 895.25 and Isr <= 2038.10:\n",
        "    SobreExceso = 895.24 \n",
        "    PorcApli = 0.2\n",
        "    Cuota = 60.00 \n",
        "\n",
        "    TotalIsr = round((Isr - SobreExceso), 2)\n",
        "    TotalIsr = round((TotalIsr * PorcApli)+Cuota, 2)\n",
        "    print(\"Tercer tramo desde $895.25 hasta $2,038.10\")\n",
        "    SalNetoMen = round(SALARIO - Iss - Afp - TotalIsr, 2)\n",
        "\n",
        "  elif Isr >= 2038.11:\n",
        "    SobreExceso = 2038.10 \n",
        "    PorcApli = 0.3 \n",
        "    Cuota = 288.57\n",
        "\n",
        "    TotalIsr = round((Isr - SobreExceso), 2)\n",
        "    TotalIsr = round((TotalIsr * PorcApli) + Cuota, 2)\n",
        "    print(\"Cuarto tramo desde $2,038.11 En adelante\")\n",
        "    SalNetoMen = round(SALARIO - Iss - Afp - TotalIsr, 2)\n",
        "\n",
        "  print(\"-\"*60)\n",
        "  print(\"AFP Patronal:\", AfpPatr, \"\\nISS Patronal:\", IssPatr, \"\\nAFP Laboral:\", Afp, \"\\nISS Laboral:\", Iss, \"\\nISR (Renta):\", TotalIsr, \"\\nSalario neto mensual:\", SalNetoMen)\n",
        "  print(\"-\"*60)\n",
        "  print(\"Sueldo por vacaciones\")\n",
        "  print(\"Sueldo quincenal:\", SuelQuinc, \"\\nVacaciones 30% de 15 días (15 dias de sueldo):\", Vacac)\n",
        "  print(\"-\"*60)\n",
        "\n",
        "Salar = float(input(\"Escribe tu salario: \"))\n",
        "CalcuDeduc(Salar)\n",
        "CalcAguinaldo(Salar)"
      ],
      "metadata": {
        "colab": {
          "base_uri": "https://localhost:8080/"
        },
        "id": "e54qYj7uQgFp",
        "outputId": "777dac84-9b84-45e4-f895-5e3c7f1747f5"
      },
      "execution_count": null,
      "outputs": [
        {
          "output_type": "stream",
          "name": "stdout",
          "text": [
            "Escribe tu salario: 500\n",
            "No pagas renta\n",
            "------------------------------------------------------------\n",
            "AFP Patronal: 38.75 \n",
            "ISS Patronal: 37.5 \n",
            "AFP Laboral: 36.25 \n",
            "ISS Laboral: 15.0 \n",
            "ISR (Renta): 0.0 \n",
            "Salario neto mensual: 448.75\n",
            "------------------------------------------------------------\n",
            "Sueldo por vacaciones\n",
            "Sueldo quincenal: 250.0 \n",
            "Vacaciones 30% de 15 días (15 dias de sueldo): 75.0\n",
            "------------------------------------------------------------\n",
            "CALCULADORA DE DESCUENTO DE ISSS, AFP, I.S.R, VACACIONES, AGUINALDO\n",
            "Cuanto tiempo que llevas en la empresa?:\n",
            "1. Entre 1 y 3 años\n",
            "2. Entre 3 y 10 años\n",
            "3. Más de 10 años\n",
            "\n",
            "Tiempo: 1\n",
            "\n",
            "Llevas 1. Entre 1 y 3 años en la empresa. Tu aguinaldo corresponde a: 15 días \n",
            "Aguinaldo: 250.0\n",
            "------------------------------------------------------------\n"
          ]
        }
      ]
    },
    {
      "cell_type": "markdown",
      "source": [
        "Desarrolle un programa en Python que simule a un cajero automático. Haga \n",
        "uso de las estructuras de control. "
      ],
      "metadata": {
        "id": "Efw_1W-1Zia8"
      }
    },
    {
      "cell_type": "code",
      "source": [
        "Saldo = 2500\n",
        "\n",
        "print(\"MENU\")\n",
        "print(\"1. Ingresar dinero\")\n",
        "print(\"2. Retirar dinero\")\n",
        "print(\"3. Dinero disponible\")\n",
        "print(\"4. Salir\")\n",
        "\n",
        "opcion = int(input(\"Seleccione la opcion: \"))\n",
        "\n",
        "print()\n",
        "\n",
        "if opcion==1:  # sumamos el ingreso que hace el usuario junto con lo que ya tiene en la cuenta.\n",
        "   sum = int(input(\"Digite la opcion que desea ingresar: \"))\n",
        "   Saldo =Saldo + sum \n",
        "   print(f\"El saldo despues del abono es de\", Saldo, \"$\" )\n",
        "\n",
        "elif opcion==2: #Le restamos la cantidad que desea retirar el usuario del saldo que posee. \n",
        "        retirar = int(input(\"Ingrese la cantidad que desea retirar: \"))\n",
        "        if Saldo > retirar:\n",
        "         Saldo = Saldo - retirar\n",
        "\n",
        "        # El cajero esta configurado para que solo entregue billetes de 100, 50, 20, 10, 5, 1 dolares, solo cantidades enteras y no decimales.\n",
        "        if retirar >= 100: \n",
        "         sobra = int(retirar / 100)\n",
        "         print(f\"retiro\", sobra, \"billete(s) de 100 dolares\")\n",
        "         retirar = retirar % 100\n",
        "\n",
        "        if retirar >=50:\n",
        "          sobra = int(retirar / 50)\n",
        "          print(f\"retiro\", sobra, \"billete(s) de 50 dolares\")\n",
        "          retirar = retirar % 50\n",
        "\n",
        "        if retirar >=20:\n",
        "         sobra = int(retirar / 20)\n",
        "         print(f\"retiro\", sobra, \"billete(s) de 20 dolares\")\n",
        "         retirar = retirar % 20\n",
        "\n",
        "        if retirar >=10:\n",
        "         sobra = int(retirar / 10)\n",
        "         print(f\"retiro\", sobra, \"billete(s) de 10 dolares\")\n",
        "         retirar = retirar % 10\n",
        "\n",
        "        if retirar >=5:\n",
        "         sobra = int(retirar / 5)\n",
        "         print(f\"retiro\", sobra, \"billete(s) de 5 dolares\")\n",
        "         retirar = retirar % 5\n",
        "\n",
        "        if retirar >=1:\n",
        "         sobra = int(retirar / 1)\n",
        "         print(f\"retiro\", sobra, \"billete(s) de 1 dolares\")\n",
        "         retirar = retirar % 1\n",
        "\n",
        "        print(f\"El saldo despues del retiro es de:\", Saldo, \"$\") \n",
        "        \n",
        "           \n",
        "     \n",
        "elif opcion==3: # Para ver el saldo actual del usuario.\n",
        " print(f\"Su saldo actual es de:\", Saldo, \"$\")\n",
        "\n",
        "elif opcion==4: # para salir de la cuenta.\n",
        " print(\"Nos vemos!\")\n",
        "\n",
        "else: # por si el usuario se equivoca de opcion le saldra un mensaje. \n",
        "  print(\"Error! Por favor ingrese una opcion validad\")  \n",
        "\n",
        "print()\n",
        "      \n"
      ],
      "metadata": {
        "colab": {
          "base_uri": "https://localhost:8080/"
        },
        "id": "VGvErq9SoswK",
        "outputId": "7a2ded82-3ea0-45cc-8936-dad3758acb13"
      },
      "execution_count": null,
      "outputs": [
        {
          "output_type": "stream",
          "name": "stdout",
          "text": [
            "MENU\n",
            "1. Ingresar dinero\n",
            "2. Retirar dinero\n",
            "3. Dinero disponible\n",
            "4. Salir\n",
            "Seleccione la opcion: 2\n",
            "\n",
            "Ingrese la cantidad que desea retirar: 567\n",
            "retiro 5 billete(s) de 100 dolares\n",
            "retiro 1 billete(s) de 50 dolares\n",
            "retiro 1 billete(s) de 10 dolares\n",
            "retiro 1 billete(s) de 5 dolares\n",
            "retiro 2 billete(s) de 1 dolares\n",
            "El saldo despues del retiro es de: 1933 $\n",
            "\n"
          ]
        }
      ]
    },
    {
      "cell_type": "code",
      "source": [
        "!pip --version"
      ],
      "metadata": {
        "colab": {
          "base_uri": "https://localhost:8080/"
        },
        "id": "wn9YlJUu2cg-",
        "outputId": "a422cb07-808c-43f0-d3ac-021e59d4cb1b"
      },
      "execution_count": null,
      "outputs": [
        {
          "output_type": "stream",
          "name": "stdout",
          "text": [
            "pip 21.1.3 from /usr/local/lib/python3.7/dist-packages/pip (python 3.7)\n"
          ]
        }
      ]
    },
    {
      "cell_type": "code",
      "source": [
        "!pip install pandas"
      ],
      "metadata": {
        "colab": {
          "base_uri": "https://localhost:8080/"
        },
        "id": "jLyRm4KJ4Iaa",
        "outputId": "adc98d90-fb20-4ffd-ec33-2c2ff5fb062d"
      },
      "execution_count": null,
      "outputs": [
        {
          "output_type": "stream",
          "name": "stdout",
          "text": [
            "Looking in indexes: https://pypi.org/simple, https://us-python.pkg.dev/colab-wheels/public/simple/\n",
            "Requirement already satisfied: pandas in /usr/local/lib/python3.7/dist-packages (1.3.5)\n",
            "Requirement already satisfied: pytz>=2017.3 in /usr/local/lib/python3.7/dist-packages (from pandas) (2022.2.1)\n",
            "Requirement already satisfied: python-dateutil>=2.7.3 in /usr/local/lib/python3.7/dist-packages (from pandas) (2.8.2)\n",
            "Requirement already satisfied: numpy>=1.17.3 in /usr/local/lib/python3.7/dist-packages (from pandas) (1.21.6)\n",
            "Requirement already satisfied: six>=1.5 in /usr/local/lib/python3.7/dist-packages (from python-dateutil>=2.7.3->pandas) (1.15.0)\n"
          ]
        }
      ]
    },
    {
      "cell_type": "code",
      "source": [
        "#POO\n",
        "class deducciones:\n",
        "   def _init_(self, sueldo, porcentajeIsss, porcentajeAFP):\n",
        "     self.sueldo = sueldo #this\n",
        "     self.porcentajeIsss = porcentajeIsss\n",
        "     self.porcentajeAFP = porcentajeAFP\n",
        "\n",
        "   def calcularIsss(self):\n",
        "     return self.sueldo * self.porcentajeIsss/100\n",
        "\n",
        "   def calcularAFP(self):\n",
        "     return self.sueldo * self.porcentajeAFP/100  \n",
        "       "
      ],
      "metadata": {
        "id": "aH_xWC724Urh"
      },
      "execution_count": null,
      "outputs": []
    },
    {
      "cell_type": "code",
      "source": [
        "porcentajeIsssP = 3  #puede venir de una BD\n",
        "porcentajeAfpP = 6.25\n",
        "\n",
        "porcentajeIsssE = 7.5\n",
        "porcentajeAfpE = 7.75\n",
        "\n",
        "sueldo = float(input(\"sueldo:\"))\n",
        "\n",
        "dp = deducciones(sueldo, porcentajeIsssP, porcentajeAfpP)\n",
        "de = deducciones(sueldo, porcentajeIsssE, porcentajeAfpE)\n",
        "\n",
        "print(\"Isss - personas: \", dp.calcularIsss(), \"Isss - Empresa: \", dp.calcularIsss())\n",
        "print(\"Afp - personas: \", de.calcularAFP(), \"Afp - empresa: \", de.porcentajeAFP())\n",
        "\n"
      ],
      "metadata": {
        "id": "6ojkKfp05Xb4"
      },
      "execution_count": null,
      "outputs": []
    },
    {
      "cell_type": "code",
      "source": [
        "import pandas as pd\n",
        "import matplotlib.pyplot as plt\n"
      ],
      "metadata": {
        "id": "0LyH27qy6xkz"
      },
      "execution_count": null,
      "outputs": []
    },
    {
      "cell_type": "code",
      "source": [
        "notas = pd.read_csv(\"/content/notas.csv\", sep=\";\")\n",
        "print(notas)"
      ],
      "metadata": {
        "id": "QmwQhMZN7lO4"
      },
      "execution_count": null,
      "outputs": []
    },
    {
      "cell_type": "code",
      "source": [
        "sobresalientes = notas.loc[notas[\"notas\"]>=7]\n",
        "print(sobresalientes)\n",
        "sobresalientes.to_csv(\"/content/sobresalientes.csv\", sep=\";\")"
      ],
      "metadata": {
        "id": "MSG0hk-589us"
      },
      "execution_count": null,
      "outputs": []
    },
    {
      "cell_type": "code",
      "source": [
        "reprobados = notas.loc[notas[\"notas\"]<6]\n",
        "print(reprobados)\n",
        "reprobados.to_csv(\"/content/reprobados.csv\", sep=\";\")"
      ],
      "metadata": {
        "id": "XYFL_04h-bLn"
      },
      "execution_count": null,
      "outputs": []
    },
    {
      "cell_type": "code",
      "source": [
        "tabla_sobresalientes = pd.crosstab(index=sobresalientes[\"notas\"], columns=\"fr\")\n",
        "plt.pie(tabla_sobresalientes, labels=tabla_sobresalientes.index)\n",
        "plt.xlabel(\"cantidad de estudiantes con buena nota\")\n",
        "plt.show()"
      ],
      "metadata": {
        "colab": {
          "base_uri": "https://localhost:8080/",
          "height": 317
        },
        "id": "BSJSEeTfCp-A",
        "outputId": "97853ce6-82ad-4e57-eac4-13ab2f42a963"
      },
      "execution_count": null,
      "outputs": [
        {
          "output_type": "stream",
          "name": "stderr",
          "text": [
            "/usr/local/lib/python3.7/dist-packages/ipykernel_launcher.py:2: MatplotlibDeprecationWarning: Non-1D inputs to pie() are currently squeeze()d, but this behavior is deprecated since 3.1 and will be removed in 3.3; pass a 1D array instead.\n",
            "  \n"
          ]
        },
        {
          "output_type": "display_data",
          "data": {
            "text/plain": [
              "<Figure size 432x288 with 1 Axes>"
            ],
            "image/png": "[encoded data removed]"
          },
          "metadata": {}
        }
      ]
    },
    {
      "cell_type": "code",
      "source": [
        "tabla_sobresalientes = pd.crosstab(index=sobresalientes[\"notas\"], columns=\"fr\")\n",
        "plt.bar(sobresalientes[\"alumnos\"], sobresalientes[\"notas\"])\n",
        "plt.xlabel(\"cantidad de estudiantes con buena nota\")\n",
        "plt.show()"
      ],
      "metadata": {
        "colab": {
          "base_uri": "https://localhost:8080/",
          "height": 279
        },
        "id": "WhytHbL2FL7f",
        "outputId": "ec59b745-bd3f-4e7a-d287-b3399f207dac"
      },
      "execution_count": null,
      "outputs": [
        {
          "output_type": "display_data",
          "data": {
            "text/plain": [
              "<Figure size 432x288 with 1 Axes>"
            ],
            "image/png": "[encoded data removed]"
          },
          "metadata": {
            "needs_background": "light"
          }
        }
      ]
    },
    {
      "cell_type": "markdown",
      "source": [
        "## Tarjeta de credito por sexo."
      ],
      "metadata": {
        "id": "mSQIzeZ6pF1t"
      }
    },
    {
      "cell_type": "code",
      "source": [
        "import pandas as pd\n",
        "import matplotlib.pyplot as plt"
      ],
      "metadata": {
        "id": "weK-FD6vo0k_"
      },
      "execution_count": null,
      "outputs": []
    },
    {
      "cell_type": "code",
      "source": [
        "tarx_tarjetas= pd.read_csv(\"/content/trx_tarjetas.csv\")\n",
        "print(tarx_tarjetas)\n"
      ],
      "metadata": {
        "id": "RJexvaMMp_HU"
      },
      "execution_count": null,
      "outputs": []
    },
    {
      "cell_type": "code",
      "source": [
        "tarjeta = pd.read_csv(\"/content/tarjeta_por_sexo.csv\", sep=\";\")\n",
        "print(tarjeta)\n",
        "\n",
        "Genero = ['Femenino', 'Maculino']\n",
        "Values1 = [13680, 12372]\n",
        "\n",
        "\n",
        "colores = ['#43a047', '#8e24aa']\n",
        "\n",
        "bars = plt.bar(Genero, Values1,\n",
        "               color=colores,\n",
        "               edgecolor='black',\n",
        "               linewidth=2)\n",
        "\n",
        "hatches = ['.', 'o']\n",
        "for bar in range(len(bars)):\n",
        "    bars[bar].set_hatch(hatches[bar])\n",
        "\n",
        "plt.xlabel('Genero')\n",
        "plt.ylabel('Cantidad')\n",
        "plt.title('Uso de tarjeta por sexo')\n",
        "\n",
        "\n",
        "plt.show()    "
      ],
      "metadata": {
        "colab": {
          "base_uri": "https://localhost:8080/",
          "height": 347
        },
        "id": "y0QmURopX16C",
        "outputId": "f304269a-f6fd-4271-d9be-48f1e77ff815"
      },
      "execution_count": 64,
      "outputs": [
        {
          "output_type": "stream",
          "name": "stdout",
          "text": [
            "  Gender  frecuencia\n",
            "0      F       13680\n",
            "1      M       12372\n"
          ]
        },
        {
          "output_type": "display_data",
          "data": {
            "text/plain": [
              "<Figure size 432x288 with 1 Axes>"
            ],
            "image/png": "[encoded data removed]"
          },
          "metadata": {
            "needs_background": "light"
          }
        }
      ]
    },
    {
      "cell_type": "markdown",
      "source": [
        "# Tarjeta de credito por ciudad "
      ],
      "metadata": {
        "id": "MMJ0goTADg1k"
      }
    },
    {
      "cell_type": "code",
      "source": [
        "import numpy as np\n",
        "import matplotlib.pyplot as plt\n",
        "\n",
        "fig, ax = plt.subplots(figsize=(10, 12), subplot_kw=dict(aspect=\"equal\"))\n",
        "\n",
        "recipe = [\"17.5 % Achalpur,India,Gold\",\n",
        "          \"0.5 % Achalpur,India,Platinum\",\n",
        "          \"12.5 % Achalpur,India,Signature\",\n",
        "          \"3.5 % Achalpur,India,Silver\",\n",
        "          \n",
        "          \"24.0 % Achalpur,India,Gold\",\n",
        "          \"17.1 % Achalpur,India,Platinum\",\n",
        "          \"1.3 % Achalpur,India,Signature\",\n",
        "          \"5.2 % Achalpur,India,Silver\",\n",
        "          \n",
        "          \"14.1 % Achalpur,India,Gold\",\n",
        "          \"4.6 % Achalpur,India,Platinum\"]          \n",
        "\n",
        "data = [float(x.split()[0]) for x in recipe]\n",
        "ingredients = [x.split()[-1] for x in recipe]\n",
        "\n",
        "\n",
        "def func(pct, allvals):\n",
        "    absolute = int(round(pct/100.*np.sum(allvals)))\n",
        "    return \"{:1.1f}%\".format(pct, absolute)\n",
        "\n",
        "\n",
        "wedges, texts, autotexts = ax.pie(data, autopct=lambda pct: func(pct, data),\n",
        "                                  textprops=dict(color=\"black\"))\n",
        "\n",
        "ax.legend(wedges, ingredients,\n",
        "          title=\"Ciudades y Tipo de Tarjetas\",\n",
        "          loc=\"center left\",\n",
        "          bbox_to_anchor=(1, 0, 0.5, 1))\n",
        "\n",
        "plt.setp(autotexts, size=12, weight=\"bold\")\n",
        "\n",
        "ax.set_title(\"Tipo de Tarjetas por Ciudades\")\n",
        "\n",
        "plt.show()\n"
      ],
      "metadata": {
        "colab": {
          "base_uri": "https://localhost:8080/",
          "height": 605
        },
        "id": "BWp0ytePOzU5",
        "outputId": "2935da93-80e9-4f9e-ebb3-eb87a4f6852a"
      },
      "execution_count": 70,
      "outputs": [
        {
          "output_type": "display_data",
          "data": {
            "text/plain": [
              "<Figure size 720x864 with 1 Axes>"
            ],
            "image/png": "[encoded data removed]"
          },
          "metadata": {}
        }
      ]
    },
    {
      "cell_type": "markdown",
      "source": [
        "# Tarjeta de credito por tipo de gasto "
      ],
      "metadata": {
        "id": "lzSf-tLEERpP"
      }
    },
    {
      "cell_type": "code",
      "source": [
        "tarjeta_gasto = pd.read_csv(\"/content/total_dls_tipo_gasto.csv\", sep=\";\")\n",
        "print(tarjeta_gasto)\n",
        "\n",
        "labels2022 = ['Bills', 'Entertainment', 'Food', 'Fuel', 'Grocery', 'Travel']\n",
        "values2022 = [ 907072473, 726437536, 824724009, 789135821, 718207923, 109255611]\n",
        "\n",
        "colores = ['#43a047', '#8e24aa', '#e53935', '#2979ff', '#757575', '#43a047']\n",
        "bars = plt.barh(labels2022, values2022,\n",
        "                color=colores,\n",
        "                edgecolor='black',\n",
        "                linewidth=2)\n",
        "\n",
        "hatches = ['/', '.', 'o', '*', '-', '/']\n",
        "for bar in range(len(bars)):\n",
        "    bars[bar].set_hatch(hatches[bar])\n",
        "\n",
        "plt.xlabel('Porcentaje')\n",
        "plt.ylabel('Tipo de gasto')\n",
        "plt.title('Totales de tipo de gastos')\n",
        "\n",
        "plt.show()\n",
        "\n",
        " \n"
      ],
      "metadata": {
        "colab": {
          "base_uri": "https://localhost:8080/",
          "height": 417
        },
        "id": "3yptxaDh1YJq",
        "outputId": "08f5101b-4935-41e4-afc4-c2922f56636d"
      },
      "execution_count": 67,
      "outputs": [
        {
          "output_type": "stream",
          "name": "stdout",
          "text": [
            "        Exp Type          Gastos\n",
            "0          Bills  907,072,473.00\n",
            "1  Entertainment  726,437,536.00\n",
            "2           Food  824,724,009.00\n",
            "3           Fuel  789,135,821.00\n",
            "4        Grocery  718,207,923.00\n",
            "5         Travel  109,255,611.00\n"
          ]
        },
        {
          "output_type": "display_data",
          "data": {
            "text/plain": [
              "<Figure size 432x288 with 1 Axes>"
            ],
            "image/png": "[encoded data removed]"
          },
          "metadata": {
            "needs_background": "light"
          }
        }
      ]
    },
    {
      "cell_type": "code",
      "source": [],
      "metadata": {
        "id": "5-6vAM531seR"
      },
      "execution_count": null,
      "outputs": []
    }
  ]
}